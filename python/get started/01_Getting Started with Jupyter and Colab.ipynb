{
 "cells": [
  {
   "cell_type": "markdown",
   "metadata": {},
   "source": [
    "<h1 style=\"text-align: center;\"><a title=\"Data Science-AIMS-Cmr-2021-22\">Chapter 1: Getting started with Jupyter  and  Colab </h1>\n",
    "\n",
    "\n",
    "**Instructor:** \n",
    "\n",
    "* Rockefeller"
   ]
  },
  {
   "cell_type": "markdown",
   "metadata": {},
   "source": [
    " "
   ]
  },
  {
   "cell_type": "markdown",
   "metadata": {},
   "source": [
    "# Let's Take a trip to ... Jupyter"
   ]
  },
  {
   "cell_type": "markdown",
   "metadata": {},
   "source": [
    "\n",
    "- A Data Science project nvolves a fair amount of coding, especially when you have an abundance of data\n",
    "\n",
    "- To be able to go back and forth between lines of codes and run them independantly, include equations,\n",
    "    images, data scientists have came up with the concept of **NOTEBOOKS**.\n",
    "\n",
    "\n",
    "\n",
    "The most popular notebook technologies today are Jupyter (supporting over 40 languages including  **R** and \n",
    "**Python**. \n",
    "\n",
    "Simply put, imagine notebooks as an environment where you can write, edit your lines of codes, include images, videos to allow an easy readability for any potential reader aside you. "
   ]
  },
  {
   "cell_type": "markdown",
   "metadata": {
    "collapsed": true
   },
   "source": [
    " "
   ]
  },
  {
   "cell_type": "markdown",
   "metadata": {},
   "source": [
    "## What is Jupyter Notebook? "
   ]
  },
  {
   "cell_type": "markdown",
   "metadata": {},
   "source": [
    "<b><font color=red>Jupyter</font></b> is a tool that allows data scientists to record their complete analysis process, much\n",
    "in the same way other scientists use a lab notebook to record tests, progress, results, and conclusions.\n",
    "\n",
    "\n",
    "\n",
    "Originally developed as part of the IPython project, the Jupyter product was used to provide interactive online access to Python.\n",
    "\n",
    "\n",
    "\n",
    "Over time it became useful to interact with other data analysis tools, such as R, in the same manner.\n",
    "With this split from Python, the tool grew into its current manifestation of Jupyter. IPython is still an active tool that's available for use.\n",
    "The name Jupyter itself is derived from the combination of **Julia, Python, and R.**\n"
   ]
  },
  {
   "cell_type": "markdown",
   "metadata": {},
   "source": [
    "## Multiple usages"
   ]
  },
  {
   "cell_type": "markdown",
   "metadata": {},
   "source": [
    "It is an open source web application that gives you the power to create and share documents that contain live codes, equations, vizualisations and narrative text. As a few things that you could do with Jupyter, there are:"
   ]
  },
  {
   "cell_type": "markdown",
   "metadata": {},
   "source": [
    "\n",
    "1. Data cleaning, transformation, numerical simulation\n",
    "2. Statistical modeling, data visualisation and Machine Learning\n",
    "2. Running un Julia , Python and R scripts!\n",
    "4. Making your code followable by your audience trough  interactiveness\n",
    "5. Saving your code in various formats (pdf, .tex, .ipynb, .html, ... )"
   ]
  },
  {
   "cell_type": "markdown",
   "metadata": {},
   "source": [
    "You could also use it with your latex syntax. For instance, see the <font color=blue>Lorenz System</font> <a class=\"anchor\" id=\"exercise-1\"></a> below:\n"
   ]
  },
  {
   "cell_type": "markdown",
   "metadata": {
    "collapsed": true
   },
   "source": [
    "$$ \n",
    " \\begin{eqnarray}\n",
    "\t\\frac{\\mathrm{d}x}{\\mathrm{d}t} &=& \\sigma (y - x),\\\\\n",
    "\t\\frac{\\mathrm{d}y}{\\mathrm{d}t} &=& x (\\rho - z) - y \\\\\n",
    "\t\\frac{\\mathrm{d}z}{\\mathrm{d}t} &=& x y - \\beta z\n",
    "\\end{eqnarray}\n",
    "$$\n",
    "\n",
    "\n",
    "\n",
    "where we set $\\rho = 10 ,  \\quad \n",
    "\\sigma =  28  \\quad  \\textrm{and}  \n",
    "\\quad  \\beta = 2.667$."
   ]
  },
  {
   "cell_type": "markdown",
   "metadata": {},
   "source": [
    "## Get used to the shortcuts"
   ]
  },
  {
   "cell_type": "markdown",
   "metadata": {},
   "source": [
    "blabla"
   ]
  },
  {
   "cell_type": "markdown",
   "metadata": {},
   "source": [
    "-  - Esc + A   -> To create a new cell above\n",
    "-   - Esc + B   -> To create a new cell below\n",
    "-  - Esc + M   -> To convert the cell to Markdown\n",
    "-  - Esc + Y   -> To convert the cell to Code\n",
    "-  -To close your notebook, make sure to save your work first! You can save your work by either clicking on the save icon or by pressing the following keyboard shortcut:\n",
    "-  -  - Ctrl + S\n",
    "-  -Then, do File -> Close and Halt"
   ]
  },
  {
   "cell_type": "markdown",
   "metadata": {
    "collapsed": true
   },
   "source": [
    " "
   ]
  },
  {
   "cell_type": "markdown",
   "metadata": {
    "collapsed": true
   },
   "source": [
    " "
   ]
  },
  {
   "cell_type": "markdown",
   "metadata": {
    "collapsed": true
   },
   "source": [
    "1. The `edit` mode lets you change the content of a cell \n",
    "2. The `command` mode lets you modify a cell as a whole\n"
   ]
  },
  {
   "cell_type": "markdown",
   "metadata": {},
   "source": [
    "### Let's explore it!!!!"
   ]
  },
  {
   "cell_type": "markdown",
   "metadata": {},
   "source": [
    ">#### <font color=#800080>Task :</font> <a class=\"anchor\" id=\"exercise-1\"></a>\n"
   ]
  },
  {
   "cell_type": "markdown",
   "metadata": {},
   "source": [
    "1. Creating, adding cells above or below \n",
    "2. Enable the shortcuts dashboard\n",
    "3. Changing the mode (Heading, Markdown, code, ...)\n",
    "4. Renaming, deleting, copying, cutting, pasting cells."
   ]
  },
  {
   "cell_type": "markdown",
   "metadata": {},
   "source": [
    "You can easily import graphs and also build your own graphs as well."
   ]
  },
  {
   "cell_type": "code",
   "execution_count": null,
   "metadata": {},
   "outputs": [],
   "source": [
    "#See my code here\n",
    "\n",
    "cities  = ['Kumasi' , 'Cairo' , 'Karthoum' , 'Surulere']\n",
    "\n",
    "for city  in cities:\n",
    "    print ('Welcome to ', city)"
   ]
  },
  {
   "cell_type": "markdown",
   "metadata": {},
   "source": [
    "#try and change the cities and print the same\n",
    "\n",
    ">#### <font color=#800080>Task :</font> <a class=\"anchor\" id=\"exercise-1\"></a>\n",
    "\n",
    "1. try and change the cities' names and print them again\n"
   ]
  },
  {
   "cell_type": "markdown",
   "metadata": {},
   "source": [
    "## Ready to Colab?"
   ]
  },
  {
   "cell_type": "markdown",
   "metadata": {},
   "source": [
    "Google Colab is a Jupyter Notebook stored in Google Drive.\n",
    "\n",
    "It is a free cloud service and now it supports free GPU! You can:\n",
    "\n",
    "*  Improve your Python programming language coding skills.\n",
    "\n",
    "* Develop deep learning applications using popular libraries such as **Keras, TensorFlow, PyTorch**."
   ]
  },
  {
   "cell_type": "markdown",
   "metadata": {},
   "source": [
    ">## <font color=#800080>Task 1: Setting up things</font> <a class=\"anchor\" id=\"exercise-1\"></a>\n",
    "\n",
    "1. Set your Google Colab account (Simply click on this [link](https://colab.research.google.com/))\n",
    "\n",
    "2. Click on `New Notebook` and Bingo!!! your Google Colab account is activated.\n",
    "\n",
    "3. From your Gmail, navigate to your Google Driver folder. Could you see a folder with a yellow icon?\n",
    "\n",
    "2. Create a <font color=blue>Github</font> <a class=\"anchor\" id=\"exercise-1\"></a> Account via this [link](https://github.com/). What is Github useful for?\n",
    "\n"
   ]
  },
  {
   "cell_type": "code",
   "execution_count": null,
   "metadata": {},
   "outputs": [],
   "source": []
  },
  {
   "cell_type": "markdown",
   "metadata": {},
   "source": [
    ">## <font color=#800080>Task 2: Setting up  our environment</font> <a class=\"anchor\" id=\"exercise-1\"></a>\n"
   ]
  },
  {
   "cell_type": "markdown",
   "metadata": {},
   "source": [
    "1. Open your temrinal and run the following command: `conda env list`. What do you notice?\n",
    "\n",
    "2. Now, we will create the environment to run all the codes for this course. Do the following:\n",
    "    - `conda create --name data_prep` : To create a new environment named data_prep\n",
    "    - `conda activate data_prep` : To activate the newly created environment.\n",
    "    - `conda install pip` : To install the pip package manager. It will be useful to add packages as we go.\n"
   ]
  },
  {
   "cell_type": "markdown",
   "metadata": {},
   "source": []
  }
 ],
 "metadata": {
  "kernelspec": {
   "display_name": "Python 3",
   "language": "python",
   "name": "python3"
  },
  "language_info": {
   "codemirror_mode": {
    "name": "ipython",
    "version": 3
   },
   "file_extension": ".py",
   "mimetype": "text/x-python",
   "name": "python",
   "nbconvert_exporter": "python",
   "pygments_lexer": "ipython3",
   "version": "3.11.7"
  }
 },
 "nbformat": 4,
 "nbformat_minor": 2
}
